{
 "cells": [
  {
   "cell_type": "code",
   "execution_count": 1,
   "metadata": {},
   "outputs": [
    {
     "name": "stdout",
     "output_type": "stream",
     "text": [
      "enter score87\n",
      "You have secured B grade\n"
     ]
    }
   ],
   "source": [
    "a=int(input(\"enter score\"))\n",
    "if a>=90 and a<=100:\n",
    "    print(\"You have secured A  grade \")\n",
    "elif a>=80 and a<=90:\n",
    "    print(\"You have secured B grade\")\n",
    "elif a>=70 and a<=80:\n",
    "    print(\"you have secured C grade\")\n",
    "elif a>=60 and a<=70:\n",
    "    print(\"you have secured d grade\")\n",
    "elif a>=50 and a<=60:\n",
    "    print(\"you have secured e grade\")\n",
    "elif a>=40 and a<=50:\n",
    "    print(\"You have secured f grade\")\n",
    "else:\n",
    "    print(\"you have failed \")"
   ]
  },
  {
   "cell_type": "code",
   "execution_count": null,
   "metadata": {},
   "outputs": [],
   "source": []
  }
 ],
 "metadata": {
  "kernelspec": {
   "display_name": "Python 3",
   "language": "python",
   "name": "python3"
  },
  "language_info": {
   "codemirror_mode": {
    "name": "ipython",
    "version": 3
   },
   "file_extension": ".py",
   "mimetype": "text/x-python",
   "name": "python",
   "nbconvert_exporter": "python",
   "pygments_lexer": "ipython3",
   "version": "3.8.5"
  }
 },
 "nbformat": 4,
 "nbformat_minor": 4
}
